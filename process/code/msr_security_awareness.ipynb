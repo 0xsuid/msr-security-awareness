{
 "metadata": {
  "language_info": {
   "codemirror_mode": {
    "name": "ipython",
    "version": 3
   },
   "file_extension": ".py",
   "mimetype": "text/x-python",
   "name": "python",
   "nbconvert_exporter": "python",
   "pygments_lexer": "ipython3",
   "version": "3.8.3-final"
  },
  "orig_nbformat": 2,
  "kernelspec": {
   "name": "python3",
   "display_name": "Python 3",
   "language": "python"
  }
 },
 "nbformat": 4,
 "nbformat_minor": 2,
 "cells": [
  {
   "cell_type": "code",
   "execution_count": 1,
   "metadata": {},
   "outputs": [],
   "source": [
    "import os\n",
    "import psycopg2\n",
    "import pandas as pd\n",
    "import re\n",
    "import shutil\n",
    "import time\n",
    "from psycopg2.extras import DictCursor\n",
    "from contextlib import contextmanager"
   ]
  },
  {
   "cell_type": "code",
   "execution_count": 2,
   "metadata": {},
   "outputs": [
    {
     "output_type": "stream",
     "name": "stdout",
     "text": [
      "connected with Database successfully\n"
     ]
    }
   ],
   "source": [
    " # https://www.psycopg.org/docs/extras.html?highlight=dictcursor#psycopg2.extras.DictCursor\n",
    " con = psycopg2.connect(database=\"\", user=\"\", password=\"\")\n",
    " print(\"connected with Database successfully\")"
   ]
  },
  {
   "cell_type": "code",
   "execution_count": 3,
   "metadata": {},
   "outputs": [],
   "source": [
    "@contextmanager\n",
    "def timed_cursor():\n",
    "    start_time = time.time()\n",
    "    yield con.cursor(cursor_factory=DictCursor)\n",
    "    print(\"--- %s seconds ---\" % (time.time() - start_time))"
   ]
  },
  {
   "cell_type": "code",
   "execution_count": 4,
   "metadata": {},
   "outputs": [],
   "source": [
    "# Create tables\n",
    "def create_table(sql_file):\n",
    "    with timed_cursor() as cur:\n",
    "            query = open(sql_file, 'r') \n",
    "            cur.execute(query.read())\n",
    "            con.commit() # Make the changes to the database persistent"
   ]
  },
  {
   "cell_type": "code",
   "execution_count": 5,
   "metadata": {},
   "outputs": [
    {
     "output_type": "stream",
     "name": "stdout",
     "text": [
      "--- 204.39195895195007 seconds ---\n",
      "--- 642.5687625408173 seconds ---\n",
      "--- 115.754403591156 seconds ---\n"
     ]
    }
   ],
   "source": [
    "# Execute Script Instead\n",
    "create_table(\"../sql/create_table_cve_revs.sql\") # Create table cve_revs\n",
    "create_table(\"../sql/create_table_cve_revs_js.sql\") # Create table cve_revs_js\n",
    "create_table(\"../sql/create_table_cve_revs_py.sql\") # Create table cve_revs_py"
   ]
  },
  {
   "cell_type": "code",
   "execution_count": 6,
   "metadata": {},
   "outputs": [],
   "source": [
    "def get_cve(row):\n",
    "    rv = list()\n",
    "    for regex in regexes:\n",
    "        rv.extend(list(set(regex.findall(row['msg']))))\n",
    "    if not rv and regex_sql_inj.search(row['msg']):\n",
    "        rv.append(\"sql_injection\")\n",
    "    return rv"
   ]
  },
  {
   "cell_type": "code",
   "execution_count": 7,
   "metadata": {},
   "outputs": [],
   "source": [
    "def copy_cwe(row):\n",
    "    if not isinstance(row['cve_data'], str):\n",
    "        return row['cwe_group']\n",
    "    if 'CWE' in row['cve_data']:\n",
    "        return row['cve_data']\n",
    "    return row['cwe_group']"
   ]
  },
  {
   "cell_type": "code",
   "execution_count": 8,
   "metadata": {},
   "outputs": [],
   "source": [
    "def create_statistics(df, lang):\n",
    "    cwe_counts = df['cwe_group'].value_counts()\n",
    "    cwe_counts.to_csv(os.path.join(res_dir, f'count_cwe_groups_{lang}.csv'), header=False)\n",
    "\n",
    "    severity_counts = df['severity'].value_counts()\n",
    "    severity_counts.to_csv(os.path.join(res_dir, f'count_severity_{lang}.csv'), header=False)\n",
    "\n",
    "    avg_impacts = df['impact_score'].describe()\n",
    "    avg_impacts.to_csv(os.path.join(res_dir, f'stat_impact_score_{lang}.csv'), header=False)\n",
    "\n",
    "    stat_yearly = df[['commit_date']]\n",
    "    stat_yearly = stat_yearly.groupby(stat_yearly.commit_date.dt.year).count()\n",
    "    stat_yearly.to_csv(os.path.join(res_dir, f'fixes_per_year_{lang}.csv'), header=False)\n",
    "\n",
    "    cwe_group_year = df[['commit_date', \"cwe_group\"]]\n",
    "    cwe_group_year = cwe_group_year.groupby([cwe_group_year.commit_date.dt.year, 'cwe_group']).count()\n",
    "    cwe_group_year.to_csv(os.path.join(res_dir, f'count_cwe_groups_by_year_{lang}.csv'), header=False)"
   ]
  },
  {
   "cell_type": "code",
   "execution_count": 9,
   "metadata": {},
   "outputs": [],
   "source": []
  },
  {
   "cell_type": "code",
   "execution_count": 10,
   "metadata": {},
   "outputs": [],
   "source": [
    "def select_random_rows(table, limit):\n",
    "    sql = f\"select * from {table} order by random() limit {limit};\"\n",
    "    with timed_cursor() as cur:\n",
    "        df = pd.read_sql_query(sql, con=con)\n",
    "        with open(os.path.join(res_dir, f\"sample_from_{table}.txt\"), 'w') as f:\n",
    "            for rec_index, rec in df.iterrows():\n",
    "                f.write(f'------- commit message {rec_index} starts -------\\n')\n",
    "                f.write(rec['msg'])\n",
    "                f.write('\\n------- commit message ends -------\\n')"
   ]
  },
  {
   "cell_type": "code",
   "execution_count": null,
   "metadata": {},
   "outputs": [],
   "source": [
    "res_dir = '../../data/results'\n",
    "\n",
    "regex_cve = re.compile(r\"(CVE-\\d{4}-\\d{4,})\", re.IGNORECASE)\n",
    "regex_cwe = re.compile(r\"(CWE-[\\d]{1,4})\", re.IGNORECASE)\n",
    "regex_nvd = re.compile(r\"(NVD .+)\", re.IGNORECASE)\n",
    "regex_sql_inj = re.compile(r\"sql ?injection\", re.IGNORECASE)\n",
    "\n",
    "regexes = [regex_cve, regex_cwe, regex_nvd]\n",
    "\n",
    "cve_list = pd.read_csv(os.path.join(\"../../data/cve_parsed\", \"cve_related_problems.csv\"), sep=\"\\t\")\n",
    "\n",
    "if os.path.exists(res_dir):\n",
    "    shutil.rmtree(res_dir)\n",
    "os.makedirs(res_dir)\n",
    "run_on(\"js\")\n",
    "run_on(\"py\")\n",
    "\n",
    "# select_random_rows(\"cve_revs_py\", 348)\n",
    "# select_random_rows(\"cve_revs_js\", 352)"
   ]
  }
 ]
}